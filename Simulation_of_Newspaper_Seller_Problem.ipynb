{
  "nbformat": 4,
  "nbformat_minor": 0,
  "metadata": {
    "colab": {
      "provenance": [],
      "collapsed_sections": []
    },
    "kernelspec": {
      "name": "python3",
      "display_name": "Python 3"
    },
    "language_info": {
      "name": "python"
    }
  },
  "cells": [
    {
      "cell_type": "code",
      "source": [
        "#Simulation & Modeling Sessional (CSE-424)\n",
        "#Simulation of Newspaper Seller Problem\n",
        "#Joynul Abedin Zubair\n",
        "#CSE 01706535"
      ],
      "metadata": {
        "id": "Vn-tKhPrxOaS"
      },
      "execution_count": null,
      "outputs": []
    },
    {
      "cell_type": "code",
      "source": [
        "import numpy as np\n",
        "import matplotlib.pyplot as plt\n",
        "from collections import Counter\n",
        "import time"
      ],
      "metadata": {
        "id": "-vh_PcH12_N1"
      },
      "execution_count": null,
      "outputs": []
    },
    {
      "cell_type": "code",
      "source": [
        "newsday = []\n",
        "newsday = [i for i in range(1,11)] \n",
        "print(newsday)"
      ],
      "metadata": {
        "colab": {
          "base_uri": "https://localhost:8080/"
        },
        "id": "3gNlC8G-7Pzl",
        "outputId": "1b68fb13-3c9f-41c4-acbf-979adadd4d81"
      },
      "execution_count": null,
      "outputs": [
        {
          "output_type": "stream",
          "name": "stdout",
          "text": [
            "[1, 2, 3, 4, 5, 6, 7, 8, 9, 10]\n"
          ]
        }
      ]
    },
    {
      "cell_type": "code",
      "source": [
        "import random\n",
        "\n",
        "random_digit_newspaper=[]\n",
        "for i in range(0,10):\n",
        " n = random.randint(0,100)\n",
        " random_digit_newspaper.append(n)\n",
        "print(random_digit_newspaper)\n"
      ],
      "metadata": {
        "id": "NizF6bnDItDg",
        "colab": {
          "base_uri": "https://localhost:8080/"
        },
        "outputId": "e65c438a-bf44-492d-fcea-72c7c5a5f1f9"
      },
      "execution_count": null,
      "outputs": [
        {
          "output_type": "stream",
          "name": "stdout",
          "text": [
            "[88, 18, 0, 36, 87, 15, 75, 89, 61, 57]\n"
          ]
        }
      ]
    },
    {
      "cell_type": "code",
      "source": [
        "#for demand\n",
        "random_digit_demand=[]\n",
        "\n",
        "for i in range(0,10):\n",
        " h = random.randint(0,100)\n",
        " random_digit_demand.append(h)\n",
        "print(random_digit_demand)"
      ],
      "metadata": {
        "colab": {
          "base_uri": "https://localhost:8080/"
        },
        "id": "GwZyYgtgoaWJ",
        "outputId": "aa83d4bf-4f96-4b9d-bb23-c31c89e48411"
      },
      "execution_count": null,
      "outputs": [
        {
          "output_type": "stream",
          "name": "stdout",
          "text": [
            "[40, 82, 37, 47, 15, 22, 75, 4, 44, 40]\n"
          ]
        }
      ]
    },
    {
      "cell_type": "code",
      "source": [
        "types=[]\n",
        "for i in range(0,10):\n",
        "  if(random_digit_newspaper[i]>=0 and random_digit_newspaper[i]<=35):\n",
        "    types.append('Good')\n",
        "\n",
        "  elif(random_digit_newspaper[i]>=36 and random_digit_newspaper[i]<=80):\n",
        "    types.append('Fair')\n",
        "  elif(random_digit_newspaper[i]>=81and random_digit_newspaper[i]<=100):\n",
        "    types.append('Poor')"
      ],
      "metadata": {
        "id": "fy1QRjHBKFWG"
      },
      "execution_count": null,
      "outputs": []
    },
    {
      "cell_type": "code",
      "source": [
        "print(types)"
      ],
      "metadata": {
        "colab": {
          "base_uri": "https://localhost:8080/"
        },
        "id": "Onw9FrZAoffC",
        "outputId": "415cbd16-4404-4c6c-a0e0-4c9c24850b3b"
      },
      "execution_count": null,
      "outputs": [
        {
          "output_type": "stream",
          "name": "stdout",
          "text": [
            "['Poor', 'Good', 'Good', 'Fair', 'Poor', 'Good', 'Fair', 'Poor', 'Fair', 'Fair']\n"
          ]
        }
      ]
    },
    {
      "cell_type": "code",
      "source": [
        "demand=[]\n",
        "for i in range(0,10):\n",
        "  if (types[i] =='Good'):\n",
        "    if(random_digit_demand[i]>=0and random_digit_demand[i]<=3):\n",
        "      demand.append(40)\n",
        "        \n",
        "    elif( random_digit_demand[i]>=4and random_digit_demand[i]<=8):\n",
        "      demand.append(50)\n",
        "        \n",
        "    elif( random_digit_demand[i]>=9 and random_digit_demand[i]<=23):\n",
        "      demand.append(60)\n",
        "        \n",
        "    elif( random_digit_demand[i]>=24 and random_digit_demand[i]<=43):\n",
        "      demand.append(70)\n",
        "    elif(random_digit_demand[i]>=44 and random_digit_demand[i]<=78):\n",
        "      demand.append(80)\n",
        "        \n",
        "    elif(random_digit_demand[i]>=79 and random_digit_demand[i]<=93):\n",
        "      demand.append(90)\n",
        "        \n",
        "    elif(random_digit_demand[i]>=94 and random_digit_demand[i]<=100):\n",
        "        demand.append(100)\n",
        "        \n",
        "    else:\n",
        "      demand.append(0)\n",
        "\n",
        "\n",
        "  if (types[i] =='Fair'):\n",
        "    if(random_digit_demand[i]>=0 and random_digit_demand[i]<=10):\n",
        "      demand.append(40)\n",
        "        \n",
        "    elif( random_digit_demand[i]>=11 and random_digit_demand[i]<=28):\n",
        "      demand.append(50)\n",
        "        \n",
        "    elif( random_digit_demand[i]>=29 and random_digit_demand[i]<=68):\n",
        "      demand.append(60)\n",
        "        \n",
        "    elif( random_digit_demand[i]>=69 and random_digit_demand[i]<=88):\n",
        "      demand.append(70)\n",
        "    elif(random_digit_demand[i]>=89 and random_digit_demand[i]<=96):\n",
        "      demand.append(80)\n",
        "        \n",
        "    elif(random_digit_demand[i]>=97 and random_digit_demand[i]<=100):\n",
        "      demand.append(90)   \n",
        "    else:\n",
        "      demand.append(0)\n",
        "\n",
        "  if (types[i] =='Poor'):\n",
        "    if(random_digit_demand[i]>=0 and random_digit_demand[i]<=44):\n",
        "      demand.append(40)\n",
        "        \n",
        "    elif( random_digit_demand[i]>=45 and random_digit_demand[i]<=66):\n",
        "      demand.append(50)\n",
        "        \n",
        "    elif( random_digit_demand[i]>=67 and random_digit_demand[i]<=82 ):\n",
        "      demand.append(60)\n",
        "        \n",
        "    elif( random_digit_demand[i]>=83 and random_digit_demand[i]<=94):\n",
        "      demand.append(70)\n",
        "    elif(random_digit_demand[i]>=95 and random_digit_demand[i]<=100):\n",
        "      demand.append(80)\n",
        "    else:\n",
        "      demand.append(0)"
      ],
      "metadata": {
        "id": "MNfuQsUsoiTP"
      },
      "execution_count": null,
      "outputs": []
    },
    {
      "cell_type": "code",
      "source": [
        "demand"
      ],
      "metadata": {
        "colab": {
          "base_uri": "https://localhost:8080/"
        },
        "id": "RFztY7WMok4H",
        "outputId": "57ddf51e-3e1b-4222-ec9a-9c1c0e715c00"
      },
      "execution_count": null,
      "outputs": [
        {
          "output_type": "execute_result",
          "data": {
            "text/plain": [
              "[40, 90, 70, 60, 40, 60, 70, 40, 60, 60]"
            ]
          },
          "metadata": {},
          "execution_count": 7
        }
      ]
    },
    {
      "cell_type": "code",
      "source": [
        "salvage=[]\n",
        "lost_profit=[]\n",
        "Daily_profit=[]\n",
        "selling_price=0.50\n",
        "buying_price=0.33\n",
        "stock=70\n",
        "\n",
        "revenue_from_sales=[]\n",
        "for i in range(0,10):\n",
        "  t=demand[i]*selling_price\n",
        "  revenue_from_sales.append(t)\n",
        "  if (demand[i]>stock):\n",
        "    ttt=(demand[i]-stock)*0.17\n",
        "    lost_profit.append(ttt)\n",
        "    salvage.append(0)\n",
        "  elif(demand[i]<stock):\n",
        "    tt=(stock-demand[i])*0.05\n",
        "    salvage.append(tt)\n",
        "    lost_profit.append(0)\n",
        "  elif(demand[i]==stock):\n",
        "    lost_profit.append(0)\n",
        "    salvage.append(0)\n",
        "\n",
        "  d=revenue_from_sales[i]-(stock*buying_price)-lost_profit[i]+salvage[i]\n",
        "  Daily_profit.append(d)\n",
        "print(salvage)  \n",
        "#print(lost_profit) \n",
        "#print(Daily_profit) \n",
        "        \n",
        "lost_profit_2f = [ '%.2f' % elem for elem in lost_profit]\n",
        "print(lost_profit_2f)\n",
        "\n",
        "Daily_profit_2f = [ '%.2f' % elem for elem in Daily_profit]\n",
        "print(Daily_profit_2f)"
      ],
      "metadata": {
        "colab": {
          "base_uri": "https://localhost:8080/"
        },
        "id": "7r7mvZJBolC_",
        "outputId": "842b69ce-4c6d-4475-cbde-d673f6f6bf89"
      },
      "execution_count": null,
      "outputs": [
        {
          "output_type": "stream",
          "name": "stdout",
          "text": [
            "[1.5, 0, 0, 0.5, 1.5, 0.5, 0, 1.5, 0.5, 0.5]\n",
            "['0.00', '3.40', '0.00', '0.00', '0.00', '0.00', '0.00', '0.00', '0.00', '0.00']\n",
            "['-1.60', '18.50', '11.90', '7.40', '-1.60', '7.40', '11.90', '-1.60', '7.40', '7.40']\n"
          ]
        }
      ]
    },
    {
      "cell_type": "code",
      "source": [
        "from prettytable import PrettyTable\n",
        "\n",
        "x = PrettyTable()\n",
        "\n",
        "column_names = ['Newsdays','Random Digit for types of Newsday','Types of Newsday','Random digits for Demand','Demand','Revenue from sales','Lost profit','Salvage','Daily profit']\n",
        "data = [newsday,random_digit_newspaper,types,random_digit_demand,demand,revenue_from_sales,lost_profit_2f,salvage,Daily_profit_2f]\n",
        "\n",
        "length = len(column_names)\n",
        "\n",
        "for i in range(length):\n",
        "  x.add_column(column_names[i],data[i])\n",
        "  \n",
        "print(x)\n"
      ],
      "metadata": {
        "colab": {
          "base_uri": "https://localhost:8080/"
        },
        "id": "KlzlZ0KHvqFE",
        "outputId": "fdc45915-8a26-4f36-8626-c137f6c103f8"
      },
      "execution_count": null,
      "outputs": [
        {
          "output_type": "stream",
          "name": "stdout",
          "text": [
            "+----------+-----------------------------------+------------------+--------------------------+--------+--------------------+-------------+---------+--------------+\n",
            "| Newsdays | Random Digit for types of Newsday | Types of Newsday | Random digits for Demand | Demand | Revenue from sales | Lost profit | Salvage | Daily profit |\n",
            "+----------+-----------------------------------+------------------+--------------------------+--------+--------------------+-------------+---------+--------------+\n",
            "|    1     |                 88                |       Poor       |            40            |   40   |        20.0        |     0.00    |   1.5   |    -1.60     |\n",
            "|    2     |                 18                |       Good       |            82            |   90   |        45.0        |     3.40    |    0    |    18.50     |\n",
            "|    3     |                 0                 |       Good       |            37            |   70   |        35.0        |     0.00    |    0    |    11.90     |\n",
            "|    4     |                 36                |       Fair       |            47            |   60   |        30.0        |     0.00    |   0.5   |     7.40     |\n",
            "|    5     |                 87                |       Poor       |            15            |   40   |        20.0        |     0.00    |   1.5   |    -1.60     |\n",
            "|    6     |                 15                |       Good       |            22            |   60   |        30.0        |     0.00    |   0.5   |     7.40     |\n",
            "|    7     |                 75                |       Fair       |            75            |   70   |        35.0        |     0.00    |    0    |    11.90     |\n",
            "|    8     |                 89                |       Poor       |            4             |   40   |        20.0        |     0.00    |   1.5   |    -1.60     |\n",
            "|    9     |                 61                |       Fair       |            44            |   60   |        30.0        |     0.00    |   0.5   |     7.40     |\n",
            "|    10    |                 57                |       Fair       |            40            |   60   |        30.0        |     0.00    |   0.5   |     7.40     |\n",
            "+----------+-----------------------------------+------------------+--------------------------+--------+--------------------+-------------+---------+--------------+\n"
          ]
        }
      ]
    },
    {
      "cell_type": "code",
      "source": [
        "print('-'*45)\n",
        "total_newsday = 10\n",
        "Average_Daily_Profit = sum(Daily_profit)/total_newsday\n",
        "print(\"Average Daily Profit : {:.2f}\".format(Average_Daily_Profit))\n",
        "print('-'*45)"
      ],
      "metadata": {
        "colab": {
          "base_uri": "https://localhost:8080/"
        },
        "id": "JDbKrZpo5R2B",
        "outputId": "9416219d-9caa-42b0-fcb2-301fb6c1b4d5"
      },
      "execution_count": null,
      "outputs": [
        {
          "output_type": "stream",
          "name": "stdout",
          "text": [
            "---------------------------------------------\n",
            "Average Daily Profit : 6.71\n",
            "---------------------------------------------\n"
          ]
        }
      ]
    },
    {
      "cell_type": "code",
      "source": [],
      "metadata": {
        "id": "A7OB2gTI48YZ"
      },
      "execution_count": null,
      "outputs": []
    },
    {
      "cell_type": "code",
      "source": [],
      "metadata": {
        "id": "pXEsQBSDrxaj"
      },
      "execution_count": null,
      "outputs": []
    },
    {
      "cell_type": "code",
      "source": [
        "# Python3 implementation of the\n",
        "# above approach\n",
        "\n",
        "# Function to generate random numbers\n",
        "def linearCongruentialMethod(Xo, m, a, c,\n",
        "\t\t\t\t\t\t\trandomNums,\n",
        "\t\t\t\t\t\t\tnoOfRandomNums):\n",
        "\n",
        "\t# Initialize the seed state\n",
        "\trandomNums[0] = Xo\n",
        "\n",
        "\t# Traverse to generate required\n",
        "\t# numbers of random numbers\n",
        "\tfor i in range(1, noOfRandomNums):\n",
        "\t\t\n",
        "\t\t# Follow the linear congruential method\n",
        "\t\trandomNums[i] = ((randomNums[i - 1] * a) +\n",
        "\t\t\t\t\t\t\t\t\t\tc) % m\n",
        "\n",
        "# Driver Code\n",
        "if __name__ == '__main__':\n",
        "\n",
        "\tXo = 27\n",
        "\tm = 100\n",
        "\ta = 13\n",
        "\tc = 43\n",
        "\tnoOfRandomNums = 10\n",
        "\n",
        "\t# To store random numbers\n",
        "\trandomNums = [0] * (noOfRandomNums)\n",
        "\n",
        "\t# Function Call\n",
        "\tlinearCongruentialMethod(Xo, m, a, c,\n",
        "\t\t\t\t\t\t\trandomNums,\n",
        "\t\t\t\t\t\t\tnoOfRandomNums)\n",
        "\n",
        "\t# Print the generated random numbers\n",
        "\tfor i in randomNums:\n",
        "\n",
        "\n",
        "\t\tprint(i, end = \" \")\n"
      ],
      "metadata": {
        "colab": {
          "base_uri": "https://localhost:8080/"
        },
        "id": "kkOo-XCK2_jy",
        "outputId": "56c4f1a9-7e63-4343-b011-4b4cf2513d0b"
      },
      "execution_count": null,
      "outputs": [
        {
          "output_type": "stream",
          "name": "stdout",
          "text": [
            "27 94 65 88 87 74 5 8 47 54 "
          ]
        }
      ]
    },
    {
      "cell_type": "code",
      "source": [
        "print(randomNums)"
      ],
      "metadata": {
        "colab": {
          "base_uri": "https://localhost:8080/"
        },
        "id": "RW95O-IE66q6",
        "outputId": "839ac727-03f8-4dac-fa4f-08559e448979"
      },
      "execution_count": null,
      "outputs": [
        {
          "output_type": "stream",
          "name": "stdout",
          "text": [
            "[27, 94, 65, 88, 87, 74, 5, 8, 47, 54]\n"
          ]
        }
      ]
    },
    {
      "cell_type": "code",
      "source": [
        "R = []\n",
        "\n",
        "for items in randomNums:\n",
        "    new = items/100\n",
        "    R.append((new))\n",
        "\n",
        "print(R)"
      ],
      "metadata": {
        "colab": {
          "base_uri": "https://localhost:8080/"
        },
        "id": "akvizIqoDpt1",
        "outputId": "7cbae653-7db9-441a-8d6e-a995fbd3cdb4"
      },
      "execution_count": null,
      "outputs": [
        {
          "output_type": "stream",
          "name": "stdout",
          "text": [
            "[0.27, 0.94, 0.65, 0.88, 0.87, 0.74, 0.05, 0.08, 0.47, 0.54]\n"
          ]
        }
      ]
    },
    {
      "cell_type": "code",
      "source": [
        "R = []\n",
        "\n",
        "for items in randomNums:\n",
        "    new = items/100\n",
        "    R.append(int(new*100))\n",
        "    \n",
        "\n",
        "print(R)"
      ],
      "metadata": {
        "colab": {
          "base_uri": "https://localhost:8080/"
        },
        "id": "boXWRDBOGkv1",
        "outputId": "63a92969-414e-43ef-e1b3-702395deecb2"
      },
      "execution_count": null,
      "outputs": [
        {
          "output_type": "stream",
          "name": "stdout",
          "text": [
            "[27, 94, 65, 88, 87, 74, 5, 8, 47, 54]\n"
          ]
        }
      ]
    }
  ]
}